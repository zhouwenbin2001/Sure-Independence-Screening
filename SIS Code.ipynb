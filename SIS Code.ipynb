{
 "cells": [
  {
   "cell_type": "markdown",
   "metadata": {},
   "source": [
    "# <center>Simulation (Final Draft)\n",
    "\n",
    "### <center>Members: Wenbin Zhou, Binghe Zhu, Jiazhi He"
   ]
  },
  {
   "cell_type": "markdown",
   "metadata": {},
   "source": [
    "# Libraries"
   ]
  },
  {
   "cell_type": "code",
   "execution_count": 1,
   "metadata": {},
   "outputs": [
    {
     "name": "stderr",
     "output_type": "stream",
     "text": [
      "Loaded lars 1.2\n",
      "\n",
      "\n",
      "载入需要的程辑包：lattice\n",
      "\n",
      "载入需要的程辑包：MASS\n",
      "\n",
      "载入需要的程辑包：Matrix\n",
      "\n",
      "载入需要的程辑包：igraph\n",
      "\n",
      "\n",
      "载入程辑包：'igraph'\n",
      "\n",
      "\n",
      "The following objects are masked from 'package:stats':\n",
      "\n",
      "    decompose, spectrum\n",
      "\n",
      "\n",
      "The following object is masked from 'package:base':\n",
      "\n",
      "    union\n",
      "\n",
      "\n",
      "Registered S3 methods overwritten by 'fastclime':\n",
      "  method    from \n",
      "  print.sim flare\n",
      "  plot.sim  flare\n",
      "\n",
      "\n",
      "载入程辑包：'fastclime'\n",
      "\n",
      "\n",
      "The following objects are masked from 'package:flare':\n",
      "\n",
      "    plot.sim, print.sim\n",
      "\n",
      "\n"
     ]
    }
   ],
   "source": [
    "options (warn = -1) # 不显示warning\n",
    "\n",
    "library(SIS) # SIS\n",
    "library(lars) # LARS-LASSO\n",
    "library(flare)\n",
    "library(ncvreg) # SCAD\n",
    "library(fastclime) # Dantzig selector"
   ]
  },
  {
   "cell_type": "markdown",
   "metadata": {},
   "source": [
    "# Measure of error"
   ]
  },
  {
   "cell_type": "code",
   "execution_count": 2,
   "metadata": {},
   "outputs": [],
   "source": [
    "beta_error = function(beta_hat,b,supp_beta_hat){\n",
    "    \n",
    "    # beta_hat 为估计出来的参数向量，不含零项\n",
    "    # b 为真实的参数向量,包含零项\n",
    "    # supp_beta_hat 为beta_hat的支集指标\n",
    "    \n",
    "    ans = sum( (beta_hat - b[supp_beta_hat])^2 ) + sum( (b[-supp_beta_hat])^2 )\n",
    "    ans = sqrt(ans)\n",
    "    return(ans)\n",
    "}"
   ]
  },
  {
   "cell_type": "markdown",
   "metadata": {},
   "source": [
    "# <center>Realization\n",
    "\n",
    "# Preparations"
   ]
  },
  {
   "cell_type": "code",
   "execution_count": 3,
   "metadata": {},
   "outputs": [],
   "source": [
    "set.seed(123) # 保证生成不同的数据集且具有可重复性\n",
    "    \n",
    "n = 200 # 样本大小\n",
    "p = 1000 # 参数维数\n",
    "x = matrix(rnorm(n*p, mean=0, sd=1), n, p) # 200*1000 独立同分布标准正态自变量\n",
    "x = scale(x) # 标准化\n",
    "eps = rnorm(n, mean=0, sd=1.5) # 标准差为1.5的正态噪声\n",
    "\n",
    "set.seed(456) # 保证生成不同的数据集且具有可重复性\n",
    "s = 8 # 真实模型大小\n",
    "    \n",
    "# 生成beta\n",
    "u = rbinom(s, 1, 0.4) # 生成 s = 8 个伯努利随机数\n",
    "z = rnorm(s, mean=0, sd=1) # 生成 s = 8 个正态分布随机数\n",
    "a = 4*log(n)/sqrt(n) # a的定义\n",
    "b = ((-1)**(u))*(a + abs(z)) # 长度是 s = 8 的参数向量\n",
    "    \n",
    "# 使用beta生成响应变量y\n",
    "y = x[, 1:s] %*% b + eps  # 回归模型\n",
    "y = y - mean(y) # 中心化"
   ]
  },
  {
   "cell_type": "markdown",
   "metadata": {},
   "source": [
    "# my_SIS"
   ]
  },
  {
   "cell_type": "code",
   "execution_count": 6,
   "metadata": {},
   "outputs": [
    {
     "data": {
      "text/html": [
       "<style>\n",
       ".list-inline {list-style: none; margin:0; padding: 0}\n",
       ".list-inline>li {display: inline-block}\n",
       ".list-inline>li:not(:last-child)::after {content: \"\\00b7\"; padding: 0 .5ex}\n",
       "</style>\n",
       "<ol class=list-inline><li>1</li><li>2</li><li>3</li><li>4</li><li>5</li><li>6</li><li>7</li><li>8</li><li>57</li><li>125</li><li>162</li><li>167</li><li>190</li><li>221</li><li>228</li><li>400</li><li>419</li><li>427</li><li>501</li><li>510</li><li>524</li><li>635</li><li>672</li><li>684</li><li>686</li><li>691</li><li>698</li><li>741</li><li>775</li><li>808</li><li>819</li><li>828</li><li>887</li><li>893</li><li>932</li><li>956</li><li>986</li></ol>\n"
      ],
      "text/latex": [
       "\\begin{enumerate*}\n",
       "\\item 1\n",
       "\\item 2\n",
       "\\item 3\n",
       "\\item 4\n",
       "\\item 5\n",
       "\\item 6\n",
       "\\item 7\n",
       "\\item 8\n",
       "\\item 57\n",
       "\\item 125\n",
       "\\item 162\n",
       "\\item 167\n",
       "\\item 190\n",
       "\\item 221\n",
       "\\item 228\n",
       "\\item 400\n",
       "\\item 419\n",
       "\\item 427\n",
       "\\item 501\n",
       "\\item 510\n",
       "\\item 524\n",
       "\\item 635\n",
       "\\item 672\n",
       "\\item 684\n",
       "\\item 686\n",
       "\\item 691\n",
       "\\item 698\n",
       "\\item 741\n",
       "\\item 775\n",
       "\\item 808\n",
       "\\item 819\n",
       "\\item 828\n",
       "\\item 887\n",
       "\\item 893\n",
       "\\item 932\n",
       "\\item 956\n",
       "\\item 986\n",
       "\\end{enumerate*}\n"
      ],
      "text/markdown": [
       "1. 1\n",
       "2. 2\n",
       "3. 3\n",
       "4. 4\n",
       "5. 5\n",
       "6. 6\n",
       "7. 7\n",
       "8. 8\n",
       "9. 57\n",
       "10. 125\n",
       "11. 162\n",
       "12. 167\n",
       "13. 190\n",
       "14. 221\n",
       "15. 228\n",
       "16. 400\n",
       "17. 419\n",
       "18. 427\n",
       "19. 501\n",
       "20. 510\n",
       "21. 524\n",
       "22. 635\n",
       "23. 672\n",
       "24. 684\n",
       "25. 686\n",
       "26. 691\n",
       "27. 698\n",
       "28. 741\n",
       "29. 775\n",
       "30. 808\n",
       "31. 819\n",
       "32. 828\n",
       "33. 887\n",
       "34. 893\n",
       "35. 932\n",
       "36. 956\n",
       "37. 986\n",
       "\n",
       "\n"
      ],
      "text/plain": [
       " [1]   1   2   3   4   5   6   7   8  57 125 162 167 190 221 228 400 419 427 501\n",
       "[20] 510 524 635 672 684 686 691 698 741 775 808 819 828 887 893 932 956 986"
      ]
     },
     "metadata": {},
     "output_type": "display_data"
    },
    {
     "data": {
      "text/html": [
       "<style>\n",
       ".list-inline {list-style: none; margin:0; padding: 0}\n",
       ".list-inline>li {display: inline-block}\n",
       ".list-inline>li:not(:last-child)::after {content: \"\\00b7\"; padding: 0 .5ex}\n",
       "</style>\n",
       "<ol class=list-inline><li>1</li><li>2</li><li>3</li><li>4</li><li>5</li><li>6</li><li>7</li><li>8</li><li>57</li><li>125</li><li>162</li><li>167</li><li>190</li><li>221</li><li>228</li><li>400</li><li>419</li><li>427</li><li>501</li><li>510</li><li>524</li><li>635</li><li>672</li><li>684</li><li>686</li><li>691</li><li>698</li><li>741</li><li>775</li><li>808</li><li>819</li><li>828</li><li>887</li><li>893</li><li>932</li><li>956</li><li>986</li></ol>\n"
      ],
      "text/latex": [
       "\\begin{enumerate*}\n",
       "\\item 1\n",
       "\\item 2\n",
       "\\item 3\n",
       "\\item 4\n",
       "\\item 5\n",
       "\\item 6\n",
       "\\item 7\n",
       "\\item 8\n",
       "\\item 57\n",
       "\\item 125\n",
       "\\item 162\n",
       "\\item 167\n",
       "\\item 190\n",
       "\\item 221\n",
       "\\item 228\n",
       "\\item 400\n",
       "\\item 419\n",
       "\\item 427\n",
       "\\item 501\n",
       "\\item 510\n",
       "\\item 524\n",
       "\\item 635\n",
       "\\item 672\n",
       "\\item 684\n",
       "\\item 686\n",
       "\\item 691\n",
       "\\item 698\n",
       "\\item 741\n",
       "\\item 775\n",
       "\\item 808\n",
       "\\item 819\n",
       "\\item 828\n",
       "\\item 887\n",
       "\\item 893\n",
       "\\item 932\n",
       "\\item 956\n",
       "\\item 986\n",
       "\\end{enumerate*}\n"
      ],
      "text/markdown": [
       "1. 1\n",
       "2. 2\n",
       "3. 3\n",
       "4. 4\n",
       "5. 5\n",
       "6. 6\n",
       "7. 7\n",
       "8. 8\n",
       "9. 57\n",
       "10. 125\n",
       "11. 162\n",
       "12. 167\n",
       "13. 190\n",
       "14. 221\n",
       "15. 228\n",
       "16. 400\n",
       "17. 419\n",
       "18. 427\n",
       "19. 501\n",
       "20. 510\n",
       "21. 524\n",
       "22. 635\n",
       "23. 672\n",
       "24. 684\n",
       "25. 686\n",
       "26. 691\n",
       "27. 698\n",
       "28. 741\n",
       "29. 775\n",
       "30. 808\n",
       "31. 819\n",
       "32. 828\n",
       "33. 887\n",
       "34. 893\n",
       "35. 932\n",
       "36. 956\n",
       "37. 986\n",
       "\n",
       "\n"
      ],
      "text/plain": [
       " [1]   1   2   3   4   5   6   7   8  57 125 162 167 190 221 228 400 419 427 501\n",
       "[20] 510 524 635 672 684 686 691 698 741 775 808 819 828 887 893 932 956 986"
      ]
     },
     "metadata": {},
     "output_type": "display_data"
    }
   ],
   "source": [
    "my_SIS = function(x,y,nsis){\n",
    "    x = scale(x)\n",
    "    omega = t(x) %*% y\n",
    "    index =  order(abs(omega),decreasing=TRUE)[1:nsis]\n",
    "    index = sort(index)\n",
    "    return(index)\n",
    "}\n",
    "\n",
    "my_SIS(x,y,nsis=(n/log(n)))\n",
    "\n",
    "real_SIS = SIS(x, y, family='gaussian', iter = FALSE, nsis=floor(n/log(n)))\n",
    "real_SIS$sis.ix0"
   ]
  },
  {
   "cell_type": "markdown",
   "metadata": {},
   "source": [
    "# my_ISIS"
   ]
  },
  {
   "cell_type": "code",
   "execution_count": 4,
   "metadata": {},
   "outputs": [
    {
     "data": {
      "text/html": [
       "<style>\n",
       ".list-inline {list-style: none; margin:0; padding: 0}\n",
       ".list-inline>li {display: inline-block}\n",
       ".list-inline>li:not(:last-child)::after {content: \"\\00b7\"; padding: 0 .5ex}\n",
       "</style>\n",
       "<ol class=list-inline><li>1</li><li>2</li><li>3</li><li>4</li><li>5</li><li>6</li><li>7</li><li>8</li><li>20</li><li>37</li><li>38</li><li>59</li><li>77</li><li>125</li><li>138</li><li>156</li><li>184</li><li>212</li><li>308</li><li>320</li><li>345</li><li>361</li><li>406</li><li>412</li><li>493</li><li>525</li><li>573</li><li>665</li><li>697</li><li>701</li><li>731</li><li>760</li><li>790</li><li>791</li><li>825</li><li>861</li><li>963</li></ol>\n"
      ],
      "text/latex": [
       "\\begin{enumerate*}\n",
       "\\item 1\n",
       "\\item 2\n",
       "\\item 3\n",
       "\\item 4\n",
       "\\item 5\n",
       "\\item 6\n",
       "\\item 7\n",
       "\\item 8\n",
       "\\item 20\n",
       "\\item 37\n",
       "\\item 38\n",
       "\\item 59\n",
       "\\item 77\n",
       "\\item 125\n",
       "\\item 138\n",
       "\\item 156\n",
       "\\item 184\n",
       "\\item 212\n",
       "\\item 308\n",
       "\\item 320\n",
       "\\item 345\n",
       "\\item 361\n",
       "\\item 406\n",
       "\\item 412\n",
       "\\item 493\n",
       "\\item 525\n",
       "\\item 573\n",
       "\\item 665\n",
       "\\item 697\n",
       "\\item 701\n",
       "\\item 731\n",
       "\\item 760\n",
       "\\item 790\n",
       "\\item 791\n",
       "\\item 825\n",
       "\\item 861\n",
       "\\item 963\n",
       "\\end{enumerate*}\n"
      ],
      "text/markdown": [
       "1. 1\n",
       "2. 2\n",
       "3. 3\n",
       "4. 4\n",
       "5. 5\n",
       "6. 6\n",
       "7. 7\n",
       "8. 8\n",
       "9. 20\n",
       "10. 37\n",
       "11. 38\n",
       "12. 59\n",
       "13. 77\n",
       "14. 125\n",
       "15. 138\n",
       "16. 156\n",
       "17. 184\n",
       "18. 212\n",
       "19. 308\n",
       "20. 320\n",
       "21. 345\n",
       "22. 361\n",
       "23. 406\n",
       "24. 412\n",
       "25. 493\n",
       "26. 525\n",
       "27. 573\n",
       "28. 665\n",
       "29. 697\n",
       "30. 701\n",
       "31. 731\n",
       "32. 760\n",
       "33. 790\n",
       "34. 791\n",
       "35. 825\n",
       "36. 861\n",
       "37. 963\n",
       "\n",
       "\n"
      ],
      "text/plain": [
       " [1]   1   2   3   4   5   6   7   8  20  37  38  59  77 125 138 156 184 212 308\n",
       "[20] 320 345 361 406 412 493 525 573 665 697 701 731 760 790 791 825 861 963"
      ]
     },
     "metadata": {},
     "output_type": "display_data"
    },
    {
     "name": "stdout",
     "output_type": "stream",
     "text": [
      "Iter 1 , screening:  1 2 3 4 5 6 7 8 57 125 162 167 228 427 510 684 686 691 741 775 828 887 893 932 \n",
      "Iter 1 , selection:  1 2 3 4 5 6 7 8 \n",
      "Iter 1 , conditional-screening:  19 53 77 125 134 212 273 308 313 346 393 412 417 433 443 458 483 495 507 525 577 635 636 673 698 829 883 986 1000 \n",
      "Iter 2 , screening:  1 2 3 4 5 6 7 8 19 53 77 125 134 212 273 308 313 346 393 412 417 433 443 458 483 495 507 525 577 635 636 673 698 829 883 986 1000 \n",
      "Iter 2 , selection:  1 2 3 4 5 6 7 8 19 77 125 134 212 273 308 313 346 393 412 417 433 443 458 483 495 507 525 577 635 636 673 698 829 883 986 1000 \n",
      "Iter 2 , conditional-screening:  716 \n",
      "Iter 3 , screening:  1 2 3 4 5 6 7 8 19 77 125 134 212 273 308 313 346 393 412 417 433 443 458 483 495 507 525 577 635 636 673 698 716 829 883 986 1000 \n",
      "Iter 3 , selection:  1 2 3 4 5 6 7 8 19 77 125 134 212 273 308 313 346 393 412 417 433 443 458 483 495 507 525 577 635 636 673 698 716 829 883 986 1000 \n",
      "Maximum number of variables selected \n"
     ]
    },
    {
     "data": {
      "text/html": [
       "<style>\n",
       ".list-inline {list-style: none; margin:0; padding: 0}\n",
       ".list-inline>li {display: inline-block}\n",
       ".list-inline>li:not(:last-child)::after {content: \"\\00b7\"; padding: 0 .5ex}\n",
       "</style>\n",
       "<ol class=list-inline><li>1</li><li>2</li><li>3</li><li>4</li><li>5</li><li>6</li><li>7</li><li>8</li><li>19</li><li>77</li><li>125</li><li>134</li><li>212</li><li>273</li><li>308</li><li>313</li><li>346</li><li>393</li><li>412</li><li>417</li><li>433</li><li>443</li><li>458</li><li>483</li><li>495</li><li>507</li><li>525</li><li>577</li><li>635</li><li>636</li><li>673</li><li>698</li><li>716</li><li>829</li><li>883</li><li>986</li><li>1000</li></ol>\n"
      ],
      "text/latex": [
       "\\begin{enumerate*}\n",
       "\\item 1\n",
       "\\item 2\n",
       "\\item 3\n",
       "\\item 4\n",
       "\\item 5\n",
       "\\item 6\n",
       "\\item 7\n",
       "\\item 8\n",
       "\\item 19\n",
       "\\item 77\n",
       "\\item 125\n",
       "\\item 134\n",
       "\\item 212\n",
       "\\item 273\n",
       "\\item 308\n",
       "\\item 313\n",
       "\\item 346\n",
       "\\item 393\n",
       "\\item 412\n",
       "\\item 417\n",
       "\\item 433\n",
       "\\item 443\n",
       "\\item 458\n",
       "\\item 483\n",
       "\\item 495\n",
       "\\item 507\n",
       "\\item 525\n",
       "\\item 577\n",
       "\\item 635\n",
       "\\item 636\n",
       "\\item 673\n",
       "\\item 698\n",
       "\\item 716\n",
       "\\item 829\n",
       "\\item 883\n",
       "\\item 986\n",
       "\\item 1000\n",
       "\\end{enumerate*}\n"
      ],
      "text/markdown": [
       "1. 1\n",
       "2. 2\n",
       "3. 3\n",
       "4. 4\n",
       "5. 5\n",
       "6. 6\n",
       "7. 7\n",
       "8. 8\n",
       "9. 19\n",
       "10. 77\n",
       "11. 125\n",
       "12. 134\n",
       "13. 212\n",
       "14. 273\n",
       "15. 308\n",
       "16. 313\n",
       "17. 346\n",
       "18. 393\n",
       "19. 412\n",
       "20. 417\n",
       "21. 433\n",
       "22. 443\n",
       "23. 458\n",
       "24. 483\n",
       "25. 495\n",
       "26. 507\n",
       "27. 525\n",
       "28. 577\n",
       "29. 635\n",
       "30. 636\n",
       "31. 673\n",
       "32. 698\n",
       "33. 716\n",
       "34. 829\n",
       "35. 883\n",
       "36. 986\n",
       "37. 1000\n",
       "\n",
       "\n"
      ],
      "text/plain": [
       " [1]    1    2    3    4    5    6    7    8   19   77  125  134  212  273  308\n",
       "[16]  313  346  393  412  417  433  443  458  483  495  507  525  577  635  636\n",
       "[31]  673  698  716  829  883  986 1000"
      ]
     },
     "metadata": {},
     "output_type": "display_data"
    }
   ],
   "source": [
    "my_ISIS = function(new,y,nsis){\n",
    "    x = new\n",
    "    colnames(x)=1:ncol(x)\n",
    "    record_index=c()\n",
    "    for(i in 1:nsis){\n",
    "        SIS_model = SIS(x, y, family='gaussian', penalty=\"SCAD\",tune=\"bic\",iter = FALSE, nsis=1)\n",
    "        del_index = SIS_model$sis.ix0\n",
    "        fit = lm(y~x[,del_index])\n",
    "        res = resid(fit)\n",
    "        y = res \n",
    "        record_index = c(record_index,as.numeric(colnames(x)[del_index]))\n",
    "        x = x[,-del_index]\n",
    "    }\n",
    "    record_index = sort(record_index)\n",
    "    return(record_index)\n",
    "}\n",
    "\n",
    "my_ISIS(x,y,nsis=(n/log(n)))\n",
    "\n",
    "real_SIS = SIS(x, y, family='gaussian',penalty=\"SCAD\",tune=\"bic\",iter = TRUE ,nsis=floor(n/log(n)))\n",
    "real_SIS$ix"
   ]
  },
  {
   "cell_type": "markdown",
   "metadata": {},
   "source": [
    "# <center> Implements\n",
    "\n",
    "# n = 200, p = 1000, SIS-SCAD"
   ]
  },
  {
   "cell_type": "code",
   "execution_count": 41,
   "metadata": {},
   "outputs": [
    {
     "name": "stdout",
     "output_type": "stream",
     "text": [
      "第 1 次模拟，误差 0.551344 ，模型大小 22 \n",
      "第 2 次模拟，误差 0.2753522 ，模型大小 10 \n",
      "第 3 次模拟，误差 0.4372524 ，模型大小 9 \n",
      "第 4 次模拟，误差 0.3834477 ，模型大小 12 \n",
      "第 5 次模拟，误差 0.202099 ，模型大小 8 \n",
      "第 6 次模拟，误差 6.972939 ，模型大小 24 \n",
      "第 7 次模拟，误差 0.2320908 ，模型大小 8 \n",
      "第 8 次模拟，误差 0.4949701 ，模型大小 10 \n",
      "第 9 次模拟，误差 0.4531644 ，模型大小 8 \n",
      "第 10 次模拟，误差 0.2940667 ，模型大小 10 \n",
      "第 11 次模拟，误差 0.5959379 ，模型大小 16 \n",
      "第 12 次模拟，误差 2.425028 ，模型大小 32 \n",
      "第 13 次模拟，误差 6.81945 ，模型大小 27 \n",
      "第 14 次模拟，误差 0.3936829 ，模型大小 14 \n",
      "第 15 次模拟，误差 0.2944618 ，模型大小 8 \n",
      "第 16 次模拟，误差 0.3136356 ，模型大小 9 \n",
      "第 17 次模拟，误差 0.3774857 ，模型大小 11 \n",
      "第 18 次模拟，误差 0.3578761 ，模型大小 11 \n",
      "第 19 次模拟，误差 0.3749394 ，模型大小 8 \n",
      "第 20 次模拟，误差 0.224339 ，模型大小 9 \n",
      "第 21 次模拟，误差 0.3603911 ，模型大小 9 \n",
      "第 22 次模拟，误差 0.3220718 ，模型大小 8 \n",
      "第 23 次模拟，误差 2.155401 ，模型大小 27 \n",
      "第 24 次模拟，误差 0.3724238 ，模型大小 8 \n",
      "第 25 次模拟，误差 0.2149783 ，模型大小 8 \n",
      "第 26 次模拟，误差 0.4103303 ，模型大小 11 \n",
      "第 27 次模拟，误差 0.2880813 ，模型大小 8 \n",
      "第 28 次模拟，误差 2.089227 ，模型大小 23 \n",
      "第 29 次模拟，误差 0.2862882 ，模型大小 9 \n",
      "第 30 次模拟，误差 0.22423 ，模型大小 10 \n",
      "第 31 次模拟，误差 0.2127062 ，模型大小 9 \n",
      "第 32 次模拟，误差 0.4436418 ，模型大小 10 \n",
      "第 33 次模拟，误差 0.4586212 ，模型大小 19 \n",
      "第 34 次模拟，误差 0.2968625 ，模型大小 8 \n",
      "第 35 次模拟，误差 6.029606 ，模型大小 31 \n",
      "第 36 次模拟，误差 0.25695 ，模型大小 8 \n",
      "第 37 次模拟，误差 0.3854447 ，模型大小 8 \n",
      "第 38 次模拟，误差 6.3141 ，模型大小 17 \n",
      "第 39 次模拟，误差 0.3070005 ，模型大小 8 \n",
      "第 40 次模拟，误差 7.446849 ，模型大小 22 \n",
      "第 41 次模拟，误差 0.1941982 ，模型大小 8 \n",
      "第 42 次模拟，误差 0.2664045 ，模型大小 8 \n",
      "第 43 次模拟，误差 0.5940825 ，模型大小 13 \n",
      "第 44 次模拟，误差 0.3347834 ，模型大小 8 \n",
      "第 45 次模拟，误差 0.324148 ，模型大小 8 \n",
      "第 46 次模拟，误差 0.3704018 ，模型大小 12 \n",
      "第 47 次模拟，误差 0.242481 ，模型大小 8 \n",
      "第 48 次模拟，误差 4.102843 ，模型大小 28 \n",
      "第 49 次模拟，误差 0.3703011 ，模型大小 8 \n",
      "第 50 次模拟，误差 0.1759374 ，模型大小 8 \n",
      "SIS-SCAD small总耗时 10.48085 秒，误差中位数 0.3703515 ，模型大小中位数 9 \n"
     ]
    }
   ],
   "source": [
    "# 样本量为n = 200，变量数为p = 1000，SIS-SCAD的模拟\n",
    "errors_SISSCAD_small = c() # 记录每次模拟的误差\n",
    "model_sizes_SISSCAD_small = c() # 记录每次模拟产生的模型大小\n",
    "start_time = Sys.time() # 记录SIS-SCAD small开始时间\n",
    "\n",
    "for(i in 1:50){ # 测试200个数据集\n",
    "  \n",
    "    set.seed(123*i) # 保证生成不同的数据集且具有可重复性\n",
    "    \n",
    "    n = 200 # 样本大小\n",
    "    p = 1000 # 参数维数\n",
    "    x = matrix(rnorm(n*p, mean=0, sd=1), n, p) # 200*1000 独立同分布标准正态自变量\n",
    "    x = scale(x) # 标准化\n",
    "    eps = rnorm(n, mean=0, sd=1.5) # 标准差为1.5的正态噪声\n",
    "\n",
    "    set.seed(456*i) # 保证生成不同的数据集且具有可重复性\n",
    "    s = 8 # 真实模型大小\n",
    "    \n",
    "    # 生成beta\n",
    "    u = rbinom(s, 1, 0.4) # 生成 s = 8 个伯努利随机数\n",
    "    z = rnorm(s, mean=0, sd=1) # 生成 s = 8 个正态分布随机数\n",
    "    a = 4*log(n)/sqrt(n) # a的定义\n",
    "    b = ((-1)**(u))*(a + abs(z)) # 长度是 s = 8 的参数向量\n",
    "    \n",
    "    # 使用beta生成响应变量y\n",
    "    y = x[, 1:s] %*% b + eps  # 回归模型\n",
    "    y = y - mean(y) # 中心化\n",
    " \n",
    "    # 建立SIS-SCAD模型\n",
    "    modelSIS_small = SIS(x,y,family='gaussian',iter = FALSE, nsis=floor(n/log(n)))\n",
    "    modelSIS_SCAD_small = tune.fit(x[,modelSIS_small$sis.ix0],y,family='gaussian',penalty=\"SCAD\",tune=\"bic\")\n",
    "\n",
    "    # 计算误差\n",
    "    b = c(b,rep(0,p-s)) # 真实\n",
    "    beta_hat = modelSIS_SCAD_small$beta # 估计\n",
    "    supp_beta_hat = modelSIS_SCAD_small$ix # 支集\n",
    "    est_error = beta_error(beta_hat,b,supp_beta_hat) # 误差\n",
    "    errors_SISSCAD_small[i] = est_error # 存储误差\n",
    " \n",
    "    #计算模型大小\n",
    "    model_sizes_SISSCAD_small[i] = length(supp_beta_hat) # 存储模型大小\n",
    "    \n",
    "    # 汇总输出结果\n",
    "    cat(\"第\",i,\"次模拟，误差\", errors_SISSCAD_small[i],\"，模型大小\",model_sizes_SISSCAD_small[i],\"\\n\") # 显示结果\n",
    "}\n",
    "end_time = Sys.time() # 记录SIS-SCAD small结束时间\n",
    "\n",
    "SISSCAD_total_time_small = end_time - start_time # SIS-SCAD small的总耗时\n",
    "SISSCAD_error_small_median = median(errors_SISSCAD_small) # 误差的中位数\n",
    "SISSCAD_model_Size_small_median = median(model_sizes_SISSCAD_small) # 模型大小中位数\n",
    "\n",
    "cat(\"SIS-SCAD small总耗时\",SISSCAD_total_time_small,\"秒，误差中位数\",SISSCAD_error_small_median,\"，模型大小中位数\",SISSCAD_model_Size_small_median,\"\\n\")"
   ]
  },
  {
   "cell_type": "markdown",
   "metadata": {},
   "source": [
    "# n = 200, p = 1000, ISIS-SCAD"
   ]
  },
  {
   "cell_type": "code",
   "execution_count": 39,
   "metadata": {},
   "outputs": [
    {
     "name": "stdout",
     "output_type": "stream",
     "text": [
      "第 1 次模拟，误差 1.628551 ，模型大小 37 \n",
      "第 2 次模拟，误差 1.815727 ，模型大小 37 \n",
      "第 3 次模拟，误差 1.462902 ，模型大小 37 \n",
      "第 4 次模拟，误差 1.583072 ，模型大小 37 \n",
      "第 5 次模拟，误差 1.602814 ，模型大小 37 \n",
      "SIS-SCAD small总耗时 11.81652 秒，误差中位数 1.602814 ，模型大小中位数 37 \n"
     ]
    }
   ],
   "source": [
    "# 样本量为n = 200，变量数为p = 1000，SIS-SCAD的模拟\n",
    "errors_SISSCAD_small = c() # 记录每次模拟的误差\n",
    "model_sizes_SISSCAD_small = c() # 记录每次模拟产生的模型大小\n",
    "start_time = Sys.time() # 记录SIS-SCAD small开始时间\n",
    "\n",
    "for(i in 1:5){ # 测试200个数据集\n",
    "  \n",
    "    set.seed(123*i) # 保证生成不同的数据集且具有可重复性\n",
    "    \n",
    "    n = 200 # 样本大小\n",
    "    p = 1000 # 参数维数\n",
    "    x = matrix(rnorm(n*p, mean=0, sd=1), n, p) # 200*1000 独立同分布标准正态自变量\n",
    "    x = scale(x) # 标准化\n",
    "    eps = rnorm(n, mean=0, sd=1.5) # 标准差为1.5的正态噪声\n",
    "\n",
    "    set.seed(456*i) # 保证生成不同的数据集且具有可重复性\n",
    "    s = 8 # 真实模型大小\n",
    "    \n",
    "    # 生成beta\n",
    "    u = rbinom(s, 1, 0.4) # 生成 s = 8 个伯努利随机数\n",
    "    z = rnorm(s, mean=0, sd=1) # 生成 s = 8 个正态分布随机数\n",
    "    a = 4*log(n)/sqrt(n) # a的定义\n",
    "    b = ((-1)**(u))*(a + abs(z)) # 长度是 s = 8 的参数向量\n",
    "    \n",
    "    # 使用beta生成响应变量y\n",
    "    y = x[, 1:s] %*% b + eps  # 回归模型\n",
    "    y = y - mean(y) # 中心化\n",
    " \n",
    "    # 建立SIS-SCAD模型\n",
    "    modelSIS_small = my_ISIS(x,y, nsis=floor(n/log(n)))\n",
    "    modelSIS_SCAD_small = tune.fit(x[,modelSIS_small],y,family='gaussian',penalty=\"SCAD\",tune=\"bic\")\n",
    "\n",
    "    # 计算误差\n",
    "    b = c(b,rep(0,p-s)) # 真实\n",
    "    beta_hat = modelSIS_SCAD_small$beta # 估计\n",
    "    supp_beta_hat = modelSIS_SCAD_small$ix # 支集\n",
    "    est_error = beta_error(beta_hat,b,supp_beta_hat) # 误差\n",
    "    errors_SISSCAD_small[i] = est_error # 存储误差\n",
    " \n",
    "    #计算模型大小\n",
    "    model_sizes_SISSCAD_small[i] = length(supp_beta_hat) # 存储模型大小\n",
    "    \n",
    "    # 汇总输出结果\n",
    "    cat(\"第\",i,\"次模拟，误差\", errors_SISSCAD_small[i],\"，模型大小\",model_sizes_SISSCAD_small[i],\"\\n\") # 显示结果\n",
    "}\n",
    "end_time = Sys.time() # 记录SIS-SCAD small结束时间\n",
    "\n",
    "SISSCAD_total_time_small = end_time - start_time # SIS-SCAD small的总耗时\n",
    "SISSCAD_error_small_median = median(errors_SISSCAD_small) # 误差的中位数\n",
    "SISSCAD_model_Size_small_median = median(model_sizes_SISSCAD_small) # 模型大小中位数\n",
    "\n",
    "cat(\"SIS-SCAD small总耗时\",SISSCAD_total_time_small,\"秒，误差中位数\",SISSCAD_error_small_median,\"，模型大小中位数\",SISSCAD_model_Size_small_median,\"\\n\")"
   ]
  },
  {
   "cell_type": "markdown",
   "metadata": {},
   "source": [
    "# n = 800, p = 20000, SIS-SCAD"
   ]
  },
  {
   "cell_type": "code",
   "execution_count": 40,
   "metadata": {},
   "outputs": [
    {
     "name": "stdout",
     "output_type": "stream",
     "text": [
      "第 1 次模拟，误差 1.632548 ，模型大小 41 \n",
      "第 2 次模拟，误差 1.384183 ，模型大小 17 \n",
      "第 3 次模拟，误差 0.2762529 ，模型大小 18 \n",
      "第 4 次模拟，误差 1.576965 ，模型大小 17 \n",
      "第 5 次模拟，误差 0.2118433 ，模型大小 18 \n",
      "第 6 次模拟，误差 1.326115 ，模型大小 39 \n",
      "第 7 次模拟，误差 0.2112694 ，模型大小 25 \n",
      "第 8 次模拟，误差 0.3303467 ，模型大小 36 \n",
      "第 9 次模拟，误差 1.30136 ，模型大小 17 \n",
      "第 10 次模拟，误差 3.075995 ，模型大小 47 \n"
     ]
    },
    {
     "data": {
      "text/plain": [
       "Time difference of 1.263354 mins"
      ]
     },
     "metadata": {},
     "output_type": "display_data"
    },
    {
     "data": {
      "text/html": [
       "1.31373720098053"
      ],
      "text/latex": [
       "1.31373720098053"
      ],
      "text/markdown": [
       "1.31373720098053"
      ],
      "text/plain": [
       "[1] 1.313737"
      ]
     },
     "metadata": {},
     "output_type": "display_data"
    },
    {
     "data": {
      "text/html": [
       "21.5"
      ],
      "text/latex": [
       "21.5"
      ],
      "text/markdown": [
       "21.5"
      ],
      "text/plain": [
       "[1] 21.5"
      ]
     },
     "metadata": {},
     "output_type": "display_data"
    }
   ],
   "source": [
    "errors_SISSCAD_Large = c() \n",
    "model_sizes_SISSCAD_Large = c() \n",
    "start_time = Sys.time() \n",
    "for(i in 1:10){ \n",
    "\n",
    "  set.seed(123*i)\n",
    "  n = 800 \n",
    "  p = 20000 \n",
    "  x = matrix(rnorm(n*p, mean=0, sd=1), n, p)\n",
    "  \n",
    "  set.seed(456*i)\n",
    "  s = 18 \n",
    "  u = rbinom(s, 1, 0.4)\n",
    "  z = rnorm(s, mean=0, sd=1)\n",
    "  a = 5*log(n)/sqrt(n)\n",
    "  b= ((-1)**(u))*(a + abs(z))\n",
    "  y=x[, 1:s]%*%b + rnorm(n, mean=0, sd=1.5)\n",
    "  \n",
    "  modelSIS_Large = SIS(x, y, family='gaussian', iter = FALSE, nsis=(n/log(n)))\n",
    "  \n",
    "  modelSCAD = cv.ncvreg(x[,modelSIS_Large$sis.ix0], y, alpha=1, family=\"gaussian\", penalty=\"SCAD\")\n",
    "  modelNew = ncvreg(x[,modelSIS_Large$sis.ix0], y, alpha=1, family=\"gaussian\", penalty=\"SCAD\", lambda=modelSCAD$lambda.min)\n",
    "  \n",
    "  \n",
    "    # 计算误差\n",
    "    beta_hat = modelNew$beta[-1,]                \n",
    "    b = c(b,rep(0,p-length(b)))\n",
    "    \n",
    "    est_error = sqrt(sum((beta_hat - b[modelSIS_Large$sis.ix0])^2)+sum((b[-modelSIS_Large$sis.ix0])^2))\n",
    "    \n",
    "    \n",
    "    errors_SISSCAD_Large[i] = est_error\n",
    "  \n",
    "  model_sizes_SISSCAD_Large[i] = sum(modelNew$beta[] != 0)-1\n",
    "   cat(\"第\",i,\"次模拟，误差\", errors_SISSCAD_Large[i],\"，模型大小\",model_sizes_SISSCAD_Large[i],\"\\n\") # 显示结果\n",
    "}\n",
    "end_time = Sys.time()\n",
    "SISSCAD_total_time_Large = end_time - start_time\n",
    "SISSCAD_error_Large_median = median(errors_SISSCAD_Large)\n",
    "SISSCAD_model_Size_Large_median = median(model_sizes_SISSCAD_Large)\n",
    "\n",
    "\n",
    "SISSCAD_total_time_Large\n",
    "SISSCAD_error_Large_median\n",
    "SISSCAD_model_Size_Large_median"
   ]
  },
  {
   "cell_type": "markdown",
   "metadata": {},
   "source": [
    "# n = 200, p = 1000, LASSO(LARS)"
   ]
  },
  {
   "cell_type": "code",
   "execution_count": 16,
   "metadata": {},
   "outputs": [
    {
     "name": "stdout",
     "output_type": "stream",
     "text": [
      "[1]  1.0000000  0.7263616 59.0000000\n",
      "[1]  2.0000000  0.7683601 63.0000000\n",
      "[1]  3.0000000  0.7874259 63.0000000\n",
      "[1]  4.000000  0.885538 63.000000\n",
      "[1]  5.0000000  0.8675519 63.0000000\n",
      "[1]  6.00000  1.04834 63.00000\n",
      "[1]  7.0000000  0.7358683 63.0000000\n",
      "[1]  8.0000000  0.8631519 63.0000000\n",
      "[1]  9.000000  1.146132 59.000000\n",
      "[1] 10.0000000  0.8197376 63.0000000\n"
     ]
    },
    {
     "data": {
      "text/html": [
       "63"
      ],
      "text/latex": [
       "63"
      ],
      "text/markdown": [
       "63"
      ],
      "text/plain": [
       "[1] 63"
      ]
     },
     "metadata": {},
     "output_type": "display_data"
    },
    {
     "data": {
      "text/html": [
       "0.84144476288119"
      ],
      "text/latex": [
       "0.84144476288119"
      ],
      "text/markdown": [
       "0.84144476288119"
      ],
      "text/plain": [
       "[1] 0.8414448"
      ]
     },
     "metadata": {},
     "output_type": "display_data"
    }
   ],
   "source": [
    "errors_LASSO = c()\n",
    "model_sizes_LASSO = c()\n",
    "start_time = Sys.time()\n",
    "for(i in 1:10){\n",
    "\n",
    "    set.seed(123*i)\n",
    "    \n",
    "    n = 200 \n",
    "    p = 1000 \n",
    "    x = matrix(rnorm(n*p, mean=0, sd=1), n, p) \n",
    "    x = scale(x) \n",
    "    eps = rnorm(n, mean=0, sd=1.5) \n",
    "\n",
    "    set.seed(456*i) \n",
    "    s = 8 \n",
    "    \n",
    "    u = rbinom(s, 1, 0.4) \n",
    "    z = rnorm(s, mean=0, sd=1)\n",
    "    a = 4*log(n)/sqrt(n) \n",
    "    b = ((-1)**(u))*(a + abs(z))\n",
    "    \n",
    "    y = x[, 1:s] %*% b + eps\n",
    "    y = y - mean(y)\n",
    "    \n",
    "    modelLASSO = lars(x,y,type=\"lasso\",normalize=TRUE,use.Gram=FALSE,max.steps=floor(sqrt(4*p)))\n",
    "\n",
    "    beta_hat = modelLASSO$beta[length(modelLASSO$df),]\n",
    "    b=c(b,rep(0,p-s))\n",
    "    supp_beta_hat = which(beta_hat != 0) # 估计\n",
    "    beta_hat = beta_hat[supp_beta_hat]\n",
    "    est_error = beta_error(beta_hat,b,supp_beta_hat) # 误差\n",
    "\n",
    "    errors_LASSO[i] =  est_error\n",
    "  \n",
    "    model_sizes_LASSO[i] = length(supp_beta_hat) \n",
    "    print(c(i, errors_LASSO[i], model_sizes_LASSO[i]))\n",
    "\n",
    "}\n",
    "end_time = Sys.time()\n",
    "\n",
    "LASSO_total_time = end_time - start_time\n",
    "LASSO_error_median = median(errors_LASSO)\n",
    "LASSO_model_Size_median = median(model_sizes_LASSO)\n",
    "\n",
    "LASSO_model_Size_median\n",
    "LASSO_error_median"
   ]
  },
  {
   "cell_type": "markdown",
   "metadata": {},
   "source": [
    "# n = 200, p = 1000, LASSO(LARS) + CV"
   ]
  },
  {
   "cell_type": "code",
   "execution_count": 17,
   "metadata": {},
   "outputs": [
    {
     "name": "stdout",
     "output_type": "stream",
     "text": [
      "[1]  1.0000000  0.7312859 39.0000000\n",
      "[1]  2.0000000  0.8770849 81.0000000\n",
      "[1]  3.0000000  0.7936717 32.0000000\n",
      "[1]  4.000000  0.883164 61.000000\n",
      "[1]  5.0000000  0.8695911 49.0000000\n"
     ]
    },
    {
     "data": {
      "text/html": [
       "49"
      ],
      "text/latex": [
       "49"
      ],
      "text/markdown": [
       "49"
      ],
      "text/plain": [
       "[1] 49"
      ]
     },
     "metadata": {},
     "output_type": "display_data"
    },
    {
     "data": {
      "text/html": [
       "0.869591138948861"
      ],
      "text/latex": [
       "0.869591138948861"
      ],
      "text/markdown": [
       "0.869591138948861"
      ],
      "text/plain": [
       "[1] 0.8695911"
      ]
     },
     "metadata": {},
     "output_type": "display_data"
    }
   ],
   "source": [
    "errors_LASSO = c()\n",
    "model_sizes_LASSO = c()\n",
    "start_time = Sys.time()\n",
    "for(i in 1:5){\n",
    "\n",
    "    set.seed(123*i)\n",
    "    \n",
    "    n = 200 \n",
    "    p = 1000 \n",
    "    x = matrix(rnorm(n*p, mean=0, sd=1), n, p) \n",
    "    x = scale(x) \n",
    "    eps = rnorm(n, mean=0, sd=1.5) \n",
    "\n",
    "    set.seed(456*i) \n",
    "    s = 8 \n",
    "    \n",
    "    u = rbinom(s, 1, 0.4) \n",
    "    z = rnorm(s, mean=0, sd=1)\n",
    "    a = 4*log(n)/sqrt(n) \n",
    "    b = ((-1)**(u))*(a + abs(z))\n",
    "    \n",
    "    y = x[, 1:s] %*% b + eps\n",
    "    y = y - mean(y)\n",
    "    \n",
    "    cvsol = cv.lars(x,y,type=\"lasso\",plot.it=FALSE,mode=\"step\",use.Gram=FALSE,max.steps=100)\n",
    "    modelLASSO = lars(x,y,type=\"lasso\",normalize=TRUE,use.Gram=FALSE,max.steps=cvsol$index[which.min(cvsol$cv)])\n",
    "\n",
    "    beta_hat = modelLASSO$beta[length(modelLASSO$df),]\n",
    "    b=c(b,rep(0,p-s))\n",
    "    supp_beta_hat = which(beta_hat != 0) # 估计\n",
    "    beta_hat = beta_hat[supp_beta_hat]\n",
    "    est_error = beta_error(beta_hat,b,supp_beta_hat) # 误差\n",
    "\n",
    "    errors_LASSO[i] =  est_error \n",
    "  \n",
    "    model_sizes_LASSO[i] = length(supp_beta_hat)\n",
    "    print(c(i, errors_LASSO[i], model_sizes_LASSO[i]))\n",
    "\n",
    "}\n",
    "end_time = Sys.time()\n",
    "\n",
    "LASSO_total_time = end_time - start_time\n",
    "LASSO_error_median = median(errors_LASSO)\n",
    "LASSO_model_Size_median = median(model_sizes_LASSO)\n",
    "\n",
    "LASSO_model_Size_median\n",
    "LASSO_error_median"
   ]
  },
  {
   "cell_type": "markdown",
   "metadata": {},
   "source": [
    "# n = 200, p = 1000, SIS-DS"
   ]
  },
  {
   "cell_type": "code",
   "execution_count": 18,
   "metadata": {},
   "outputs": [
    {
     "name": "stdout",
     "output_type": "stream",
     "text": [
      "compute X^TX and X^y \n",
      "start recovering \n",
      "lambdamin is  2.326359e-11 \n",
      "Done! \n",
      "[1]  1.00000000  0.08621021 37.00000000\n",
      "compute X^TX and X^y \n",
      "start recovering \n",
      "lambdamin is  2.445736 \n",
      "Done! \n",
      "[1]  2.0000000  0.6330811 36.0000000\n",
      "compute X^TX and X^y \n",
      "start recovering \n",
      "lambdamin is  6.59696e-13 \n",
      "Done! \n",
      "[1]  3.000000  2.039086 37.000000\n",
      "compute X^TX and X^y \n",
      "start recovering \n",
      "lambdamin is  4.478988e-13 \n",
      "Done! \n",
      "[1]  4.000000000  0.006980498 37.000000000\n",
      "compute X^TX and X^y \n",
      "start recovering \n",
      "lambdamin is  1.674452 \n",
      "Done! \n",
      "[1]  5.000000  1.165132 35.000000\n"
     ]
    },
    {
     "data": {
      "text/plain": [
       "Time difference of 1.731276 secs"
      ]
     },
     "metadata": {},
     "output_type": "display_data"
    },
    {
     "data": {
      "text/html": [
       "0.633081142778018"
      ],
      "text/latex": [
       "0.633081142778018"
      ],
      "text/markdown": [
       "0.633081142778018"
      ],
      "text/plain": [
       "[1] 0.6330811"
      ]
     },
     "metadata": {},
     "output_type": "display_data"
    },
    {
     "data": {
      "text/html": [
       "37"
      ],
      "text/latex": [
       "37"
      ],
      "text/markdown": [
       "37"
      ],
      "text/plain": [
       "[1] 37"
      ]
     },
     "metadata": {},
     "output_type": "display_data"
    }
   ],
   "source": [
    "errors_SISDS_small = c() \n",
    "model_sizes_SISDS_small = c() \n",
    "start_time = Sys.time()\n",
    "for(i in 1:5){\n",
    "  \n",
    "  set.seed(123*i)\n",
    "  n = 200 \n",
    "  p = 1000 \n",
    "  x = matrix(rnorm(n*p, mean=0, sd=1), n, p) \n",
    "    \n",
    " \n",
    "  set.seed(456*i)\n",
    "  s = 8\n",
    "  u = rbinom(s, 1, 0.4)\n",
    "  z = rnorm(s, mean=0, sd=1)\n",
    "  a = 4*log(n)/sqrt(n)\n",
    "  b= ((-1)**(u))*(a + abs(z))\n",
    "  y=x[, 1:s]%*%b + rnorm(n, mean=0, sd=1.5)\n",
    "  \n",
    "\n",
    "  modelSIS_small = SIS(x, y, family='gaussian', iter = FALSE, nsis=(n/log(n)))\n",
    "  \n",
    "  modelDS = dantzig(x[,modelSIS_small$sis.ix0], y)\n",
    "  \n",
    "   # 计算误差\n",
    "    beta_hat = modelDS$BETA0\n",
    "    beta_hat = beta_hat[,dim(beta_hat)[2]]\n",
    "    \n",
    "    model_size = sum(beta_hat != 0)\n",
    "    \n",
    "    beta_hat = c(beta_hat,rep(0,p-length(beta_hat)))                \n",
    "    b = c(b,rep(0,p-length(b)))      \n",
    "    est_error = sqrt(sum(beta_hat-b)^2)\n",
    "    \n",
    "    errors_SISSCAD_small[i] = est_error # 存储误差\n",
    "  \n",
    "\n",
    "  a = modelDS$BETA0[, dim(beta_hat)[2]] != 0\n",
    "\n",
    "    \n",
    "  errors_SISDS_small[i] = est_error\n",
    "    \n",
    "    model_sizes_SISDS_small[i] = model_size\n",
    "  \n",
    "  print(c(i, errors_SISDS_small[i], model_sizes_SISDS_small[i])) \n",
    "}\n",
    "\n",
    "\n",
    "\n",
    "end_time = Sys.time()\n",
    "SISDS_total_time_small = end_time - start_time\n",
    "SISDS_error_small_median = median(errors_SISDS_small)\n",
    "SISDS_model_Size_small_median = median(model_sizes_SISDS_small)\n",
    "\n",
    "\n",
    "SISDS_total_time_small\n",
    "SISDS_error_small_median\n",
    "SISDS_model_Size_small_median"
   ]
  },
  {
   "cell_type": "markdown",
   "metadata": {},
   "source": [
    "# n = 800, p = 20000, SIS-DS"
   ]
  },
  {
   "cell_type": "code",
   "execution_count": 19,
   "metadata": {},
   "outputs": [
    {
     "name": "stdout",
     "output_type": "stream",
     "text": [
      "compute X^TX and X^y \n",
      "start recovering \n",
      "lambdamin is  6.036525e-09 \n",
      "Done! \n",
      "[1]   1.000000   2.543266 119.000000\n",
      "compute X^TX and X^y \n",
      "start recovering \n",
      "lambdamin is  8.279479e-09 \n",
      "Done! \n",
      "[1]   2.000000   1.077069 119.000000\n",
      "compute X^TX and X^y \n",
      "start recovering \n",
      "lambdamin is  2.520486e-10 \n",
      "Done! \n",
      "[1]   3.0000000   0.1325098 119.0000000\n",
      "compute X^TX and X^y \n",
      "start recovering \n",
      "lambdamin is  5.145992e-11 \n",
      "Done! \n",
      "[1]   4.0000000   0.6056999 119.0000000\n",
      "compute X^TX and X^y \n",
      "start recovering \n",
      "lambdamin is  5.425498e-10 \n",
      "Done! \n",
      "[1]   5.0000000   0.3213144 119.0000000\n"
     ]
    },
    {
     "data": {
      "text/plain": [
       "Time difference of 37.04683 secs"
      ]
     },
     "metadata": {},
     "output_type": "display_data"
    },
    {
     "data": {
      "text/html": [
       "0.6056998762686"
      ],
      "text/latex": [
       "0.6056998762686"
      ],
      "text/markdown": [
       "0.6056998762686"
      ],
      "text/plain": [
       "[1] 0.6056999"
      ]
     },
     "metadata": {},
     "output_type": "display_data"
    },
    {
     "data": {
      "text/html": [
       "119"
      ],
      "text/latex": [
       "119"
      ],
      "text/markdown": [
       "119"
      ],
      "text/plain": [
       "[1] 119"
      ]
     },
     "metadata": {},
     "output_type": "display_data"
    }
   ],
   "source": [
    "errors_SISDS_Large = c() \n",
    "model_sizes_SISDS_Large = c() \n",
    "start_time = Sys.time()\n",
    "for(i in 1:5){\n",
    "\n",
    "  set.seed(123*i) \n",
    "  n = 800 \n",
    "  p = 20000 \n",
    "  x = matrix(rnorm(n*p, mean=0, sd=1), n, p) \n",
    "  \n",
    "\n",
    "  set.seed(456*i) \n",
    "  s = 18\n",
    "  u = rbinom(s, 1, 0.4)\n",
    "  z = rnorm(s, mean=0, sd=1)\n",
    "  a = 5*log(n)/sqrt(n)\n",
    "  b= ((-1)**(u))*(a + abs(z))\n",
    "  y=x[, 1:s]%*%b + rnorm(n, mean=0, sd=1.5)\n",
    "  \n",
    " \n",
    "    modelSIS_Large = SIS(x, y, family='gaussian', iter = FALSE, nsis=(n/log(n)))\n",
    "    \n",
    "    modelDS = dantzig(x[,modelSIS_Large$sis.ix0], y,nlambda = 300)\n",
    "  \n",
    "   # 计算误差\n",
    "    beta_hat = modelDS$BETA0\n",
    "    beta_hat = beta_hat[,dim(beta_hat)[2]]\n",
    "    \n",
    "    model_size = sum(beta_hat != 0)\n",
    "    \n",
    "    beta_hat = c(beta_hat,rep(0,p-length(beta_hat)))                \n",
    "    b = c(b,rep(0,p-length(b)))      \n",
    "    est_error = sqrt(sum(beta_hat-b)^2)\n",
    "  \n",
    "    errors_SISDS_Large[i] = est_error \n",
    "    \n",
    "    model_sizes_SISDS_Large[i] = model_size\n",
    "    \n",
    "    \n",
    "    \n",
    "    print(c(i, errors_SISDS_Large[i], model_sizes_SISDS_Large[i])) \n",
    "}\n",
    "end_time = Sys.time()\n",
    "SISDS_total_time_Large = end_time - start_time\n",
    "SISDS_error_Large_median = median(errors_SISDS_Large)\n",
    "SISDS_model_Size_Large_median = median(model_sizes_SISDS_Large)\n",
    "\n",
    "\n",
    "SISDS_total_time_Large\n",
    "SISDS_error_Large_median\n",
    "SISDS_model_Size_Large_median"
   ]
  },
  {
   "cell_type": "markdown",
   "metadata": {},
   "source": [
    "# n = 200, p = 1000, DS"
   ]
  },
  {
   "cell_type": "code",
   "execution_count": 20,
   "metadata": {},
   "outputs": [
    {
     "name": "stdout",
     "output_type": "stream",
     "text": [
      "compute X^TX and X^y \n",
      "start recovering \n",
      "lambdamin is  0.005627696 \n",
      "Done! \n",
      "[1]   1.0000000   0.9236602 199.0000000\n"
     ]
    },
    {
     "data": {
      "text/plain": [
       "Time difference of 1.244969 mins"
      ]
     },
     "metadata": {},
     "output_type": "display_data"
    },
    {
     "data": {
      "text/html": [
       "0.923660205056297"
      ],
      "text/latex": [
       "0.923660205056297"
      ],
      "text/markdown": [
       "0.923660205056297"
      ],
      "text/plain": [
       "[1] 0.9236602"
      ]
     },
     "metadata": {},
     "output_type": "display_data"
    },
    {
     "data": {
      "text/html": [
       "199"
      ],
      "text/latex": [
       "199"
      ],
      "text/markdown": [
       "199"
      ],
      "text/plain": [
       "[1] 199"
      ]
     },
     "metadata": {},
     "output_type": "display_data"
    }
   ],
   "source": [
    "errors_SISDS_small = c() \n",
    "model_sizes_SISDS_small = c() \n",
    "start_time = Sys.time()\n",
    "for(i in 1:1){\n",
    "  \n",
    "  set.seed(123*i) \n",
    "  n = 200 \n",
    "  p = 1000 \n",
    "  x = matrix(rnorm(n*p, mean=0, sd=1), n, p) \n",
    "  \n",
    "\n",
    "  set.seed(456*i) \n",
    "  s = 18\n",
    "  u = rbinom(s, 1, 0.4)\n",
    "  z = rnorm(s, mean=0, sd=1)\n",
    "  a = 4*log(n)/sqrt(n)\n",
    "  b= ((-1)**(u))*(a + abs(z))\n",
    "  y=x[, 1:s]%*%b + rnorm(n, mean=0, sd=1.5)\n",
    "  \n",
    "  modelDS = dantzig(x, y,nlambda=200000)\n",
    "  \n",
    "   # 计算误差\n",
    "    beta_hat = modelDS$BETA0\n",
    "    beta_hat = beta_hat[,dim(beta_hat)[2]]\n",
    "    \n",
    "    model_size = sum(beta_hat != 0)\n",
    "    \n",
    "    beta_hat = c(beta_hat,rep(0,p-length(beta_hat)))                \n",
    "    b = c(b,rep(0,p-length(b)))      \n",
    "    est_error = sqrt(sum(beta_hat-b)^2)\n",
    "    \n",
    "    errors_SISSCAD_small[i] = est_error # 存储误差\n",
    "  \n",
    "\n",
    "  a = modelDS$BETA0[, dim(beta_hat)[2]] != 0\n",
    "\n",
    "  errors_SISDS_small[i] = est_error \n",
    "    \n",
    "    model_sizes_SISDS_small[i] = model_size\n",
    "  \n",
    "  print(c(i, errors_SISDS_small[i], model_sizes_SISDS_small[i])) \n",
    "\n",
    "}\n",
    "\n",
    "end_time = Sys.time()\n",
    "SISDS_total_time_small = end_time - start_time\n",
    "SISDS_error_small_median = median(errors_SISDS_small)\n",
    "SISDS_model_Size_small_median = median(model_sizes_SISDS_small)\n",
    "\n",
    "\n",
    "SISDS_total_time_small\n",
    "SISDS_error_small_median\n",
    "SISDS_model_Size_small_median"
   ]
  },
  {
   "cell_type": "markdown",
   "metadata": {},
   "source": [
    "# Leukaemia"
   ]
  },
  {
   "cell_type": "code",
   "execution_count": 33,
   "metadata": {},
   "outputs": [
    {
     "data": {
      "text/html": [
       "<table class=\"dataframe\">\n",
       "<caption>A matrix: 1 × 6 of type dbl</caption>\n",
       "<tbody>\n",
       "\t<tr><td>11</td><td>4.104478</td><td>11</td><td>4.477612</td><td>1</td><td>1.30597</td></tr>\n",
       "</tbody>\n",
       "</table>\n"
      ],
      "text/latex": [
       "A matrix: 1 × 6 of type dbl\n",
       "\\begin{tabular}{llllll}\n",
       "\t 11 & 4.104478 & 11 & 4.477612 & 1 & 1.30597\\\\\n",
       "\\end{tabular}\n"
      ],
      "text/markdown": [
       "\n",
       "A matrix: 1 × 6 of type dbl\n",
       "\n",
       "| 11 | 4.104478 | 11 | 4.477612 | 1 | 1.30597 |\n",
       "\n"
      ],
      "text/plain": [
       "     [,1] [,2]     [,3] [,4]     [,5] [,6]   \n",
       "[1,] 11   4.104478 11   4.477612 1    1.30597"
      ]
     },
     "metadata": {},
     "output_type": "display_data"
    }
   ],
   "source": [
    "data(\"leukemia.train\", package = \"SIS\")\n",
    "data(\"leukemia.test\", package = \"SIS\")\n",
    "y1 = leukemia.train[, dim(leukemia.train)[2]]\n",
    "x1 = as.matrix(leukemia.train[, -dim(leukemia.train)[2]])\n",
    "y2 = leukemia.test[, dim(leukemia.test)[2]]\n",
    "x2 = as.matrix(leukemia.test[, -dim(leukemia.test)[2]])\n",
    "\n",
    "x = rbind(x1, x2)\n",
    "y = c(y1, y2)\n",
    "\n",
    "penalty = \"SCAD\"\n",
    "tune = \"bic\"\n",
    "nsis = 100\n",
    "q = 0.95\n",
    "st = FALSE\n",
    "tot.sim = 10\n",
    "results.leukemia.1 = matrix(0, nrow=tot.sim, ncol=3)\n",
    "\n",
    "for(randSeed in 1:tot.sim){\n",
    "set.seed(randSeed)\n",
    "\n",
    "n = dim(x)[1]; aux = 1:n\n",
    "ind.train1 = sample(aux[y == 0], 23, replace = FALSE)\n",
    "ind.train2 = sample(aux[y == 1], 13, replace = FALSE)\n",
    "ind.train = c(ind.train1, ind.train2)\n",
    "x.train = scale(x[ind.train,])\n",
    "y.train = y[ind.train]\n",
    "ind.test1 = setdiff(aux[y == 0], ind.train1)\n",
    "ind.test2 = setdiff(aux[y == 1], ind.train2)\n",
    "ind.test = c(ind.test1, ind.test2)\n",
    "x.test = scale(x[ind.test,])\n",
    "y.test = y[ind.test]\n",
    "\n",
    "r = SIS(x.train, y.train , family=\"binomial\", penalty=penalty, tune=tune, nsis=nsis, iter=FALSE, standardize=st)\n",
    "train.error = length(which(y.train!= predict(r, x.train, type=\"class\")))\n",
    "test.error = length(which(y.test!= predict(r, x.test, type=\"class\")))\n",
    "results.leukemia.1[randSeed,] = c(train.error,test.error,length(r$ix))\n",
    "}\n",
    "\n",
    "results.leukemia = matrix(0, nrow=1, ncol=6)\n",
    "results.leukemia[1,c(1,3,5)] = apply(results.leukemia.1,2,median); results.leukemia[1,c(2,4,6)] = apply(results.leukemia.1,2,IQR)/1.34\n",
    "results.leukemia"
   ]
  },
  {
   "cell_type": "code",
   "execution_count": null,
   "metadata": {},
   "outputs": [],
   "source": []
  }
 ],
 "metadata": {
  "kernelspec": {
   "display_name": "R",
   "language": "R",
   "name": "ir"
  },
  "language_info": {
   "codemirror_mode": "r",
   "file_extension": ".r",
   "mimetype": "text/x-r-source",
   "name": "R",
   "pygments_lexer": "r",
   "version": "4.1.1"
  }
 },
 "nbformat": 4,
 "nbformat_minor": 4
}
